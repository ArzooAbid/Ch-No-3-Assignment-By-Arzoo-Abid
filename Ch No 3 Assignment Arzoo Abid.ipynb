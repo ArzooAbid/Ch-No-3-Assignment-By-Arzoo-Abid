{
 "cells": [
  {
   "cell_type": "code",
   "execution_count": 20,
   "metadata": {},
   "outputs": [
    {
     "name": "stdout",
     "output_type": "stream",
     "text": [
      "Arzoo\n",
      "Ayesha\n",
      "Hina\n",
      "Adeela\n"
     ]
    }
   ],
   "source": [
    "# 3.1. Names: Store the names of a few of your friends in a list called names. Print each person’s name by accessing each element in the list, one at a time.\n",
    "names=['Arzoo', 'Ayesha','Hina','Adeela']\n",
    "print(names[0].title())\n",
    "print(names[1].title())\n",
    "print(names[2].title())\n",
    "print(names[3].title())"
   ]
  },
  {
   "cell_type": "code",
   "execution_count": 21,
   "metadata": {},
   "outputs": [
    {
     "name": "stdout",
     "output_type": "stream",
     "text": [
      "Arzoo  hello how are you?\n",
      "Hina  hello how are you?\n",
      "Ayesha  hello how are you?\n"
     ]
    }
   ],
   "source": [
    "# 3.2. Greetings: Start with the list you used in Exercise 3.1 ,but instead of just \n",
    "#printing each person’s name, print a message to them. The text of each message should be the same, but each message should be personalized with the \n",
    "#person’s name.\n",
    "names=['Arzoo', 'Hina','Ayesha',]\n",
    "message=\"  hello how are you?\"\n",
    "print(names[0]+message)\n",
    "print(names[1]+message)\n",
    "print(names[2]+message)"
   ]
  },
  {
   "cell_type": "code",
   "execution_count": 22,
   "metadata": {},
   "outputs": [
    {
     "name": "stdout",
     "output_type": "stream",
     "text": [
      "i would love to own a Honda 125\n",
      "My favourite motorbike is CD 70\n",
      "i like Honda Prider\n"
     ]
    }
   ],
   "source": [
    "# 3.3. Your Own List: Think of your favorite mode of transportation, such as a motorcycle or a car, and make a list that stores several examples. Use your list \n",
    "#to print a series of statements about these items, such as “I would like to own a Honda motorcycle.”\n",
    "Motorbike=['Honda 125','CD 70', \"Honda Prider\"]\n",
    "print(\"i would love to own a \"+Motorbike[0])\n",
    "print(\"My favourite motorbike is \"+Motorbike[1])\n",
    "print(\"i like \"+Motorbike[2])"
   ]
  },
  {
   "cell_type": "code",
   "execution_count": 23,
   "metadata": {},
   "outputs": [
    {
     "name": "stdout",
     "output_type": "stream",
     "text": [
      "Aoa Arzoo would you like to join me on dinner ?\n",
      "Aoa Ayesha would you like to join me on dinner ?\n",
      "Aoa Hina would you like to join me on dinner ?\n"
     ]
    }
   ],
   "source": [
    "# 3.4. Guest List: If you could invite anyone, living or deceased, to dinner, who would you invite? Make a list that includes at least three people you’d like to \n",
    "#invite to dinner. Then use your list to print a message to each person, inviting them to dinner.\n",
    "persons=['Arzoo','Ayesha','Hina']\n",
    "print(\"Aoa \"+persons[0]+\" would you like to join me on dinner ?\")\n",
    "print(\"Aoa \"+persons[1]+\" would you like to join me on dinner ?\")\n",
    "print(\"Aoa \"+persons[2]+\" would you like to join me on dinner ?\")"
   ]
  },
  {
   "cell_type": "code",
   "execution_count": 24,
   "metadata": {},
   "outputs": [
    {
     "name": "stdout",
     "output_type": "stream",
     "text": [
      "Oh Adeela i am upset you can't join me \n",
      "Aoa Ayesha i'm really happy you are joining me on dinner ?\n",
      "Aoa Mehvish would you like to join me on dinner ?\n",
      "Aoa Sadaf would you like to join me on dinner ?\n"
     ]
    }
   ],
   "source": [
    "# 3.5. Changing Guest List: \n",
    "persons=['Adeela','Mehvish','Sadaf']\n",
    "print(\"Oh \"+persons[0]+\" i am upset you can't join me \")\n",
    "persons.insert(0,'Ayesha')\n",
    "persons.remove('Adeela')\n",
    "print(\"Aoa \"+persons[0]+\" i'm really happy you are joining me on dinner ?\")\n",
    "print(\"Aoa \"+persons[1]+\" would you like to join me on dinner ?\")\n",
    "print(\"Aoa \"+persons[2]+\" would you like to join me on dinner ?\")"
   ]
  },
  {
   "cell_type": "code",
   "execution_count": 25,
   "metadata": {},
   "outputs": [
    {
     "name": "stdout",
     "output_type": "stream",
     "text": [
      "Aoa Ayesha Mehvish and Hina i wanna tell you that 3 more persons are joining us on dinner.\n",
      "Aoa Ayesha i'm really so happy you are joining me on dinner.\n",
      "Aoa Ayesha i'm really so happy you are joining me on dinner.\n",
      "Aoa Sadaf i'm really so happy you are joining me on dinner.\n",
      "Aoa Mehvish i'm really so happy you are joining me on dinner.\n",
      "Aoa Hina i'm really so happy you are joining me on dinner.\n",
      "Aoa Quratulain i'm really so happy you are joining me on dinner.\n"
     ]
    }
   ],
   "source": [
    "# 3.6. More Guests: \n",
    "persons=['Adeela','Mehvish','Hina']\n",
    "persons.insert(0,'Ayesha')\n",
    "persons.remove('Adeela')\n",
    "print(\"Aoa \"+persons[0],persons[1] +\" and \"+persons[2]+\" i wanna tell you that 3 more persons are joining us on dinner.\")\n",
    "persons.insert(0,'Ayesha')\n",
    "persons.insert(2,'Sadaf')\n",
    "persons.append('Quratulain')\n",
    "print(\"Aoa \"+persons[0]+\" i'm really so happy you are joining me on dinner.\")\n",
    "print(\"Aoa \"+persons[1]+\" i'm really so happy you are joining me on dinner.\")\n",
    "print(\"Aoa \"+persons[2]+\" i'm really so happy you are joining me on dinner.\")\n",
    "print(\"Aoa \"+persons[3]+\" i'm really so happy you are joining me on dinner.\")\n",
    "print(\"Aoa \"+persons[4]+\" i'm really so happy you are joining me on dinner.\")\n",
    "print(\"Aoa \"+persons[5]+\" i'm really so happy you are joining me on dinner.\")"
   ]
  },
  {
   "cell_type": "code",
   "execution_count": 26,
   "metadata": {},
   "outputs": [
    {
     "name": "stdout",
     "output_type": "stream",
     "text": [
      "Sadaf i feel sorry to tell you that i can't invite you\n",
      "hina i feel sorry to tell you that i can't invite you\n",
      "Ayesha i feel sorry to tell you that i can't invite you\n",
      "Mehvish i feel sorry to tell you that i can't invite you\n",
      "Ayesha and Quatulain I feel happy to tell you that you are joining me on dinner\n",
      "['Ayesha', 'Quatulain']\n"
     ]
    }
   ],
   "source": [
    "#3-7. Shrinking Guest List:\n",
    "persons=['Adeela','Ayesha','hina']\n",
    "persons.insert(0,'Ayesha')\n",
    "persons.remove('Adeela')\n",
    "persons.insert(1,'Quatulain')\n",
    "persons.insert(2,'Mehvish')\n",
    "persons.append('Sadaf')\n",
    "p1=persons.pop()\n",
    "print(p1+ \" i feel sorry to tell you that i can't invite you\")\n",
    "p1=persons.pop()\n",
    "print(p1+ \" i feel sorry to tell you that i can't invite you\")\n",
    "p1=persons.pop()\n",
    "print(p1+ \" i feel sorry to tell you that i can't invite you\")\n",
    "p1=persons.pop()\n",
    "print(p1+ \" i feel sorry to tell you that i can't invite you\")\n",
    "print(persons[0]+\" and \"+persons[1]+\" I feel happy to tell you that you are joining me on dinner\")\n",
    "print(persons)"
   ]
  },
  {
   "cell_type": "code",
   "execution_count": 27,
   "metadata": {},
   "outputs": [
    {
     "name": "stdout",
     "output_type": "stream",
     "text": [
      "['France', 'Abu Dhabi', 'Pakistan', 'Maldeeps', 'Switzerland']\n",
      "['Abu Dhabi', 'France', 'Maldeeps', 'Pakistan', 'Switzerland']\n",
      "['France', 'Abu Dhabi', 'Pakistan', 'Maldeeps', 'Switzerland']\n",
      "['Switzerland', 'Pakistan', 'Maldeeps', 'France', 'Abu Dhabi']\n",
      "['Abu Dhabi', 'France', 'Maldeeps', 'Pakistan', 'Switzerland']\n",
      "['Abu Dhabi', 'France', 'Maldeeps', 'Pakistan', 'Switzerland']\n",
      "['Switzerland', 'Pakistan', 'Maldeeps', 'France', 'Abu Dhabi']\n"
     ]
    }
   ],
   "source": [
    "# 3.8. Seeing the World: \n",
    "locations=['France','Abu Dhabi','Pakistan','Maldeeps','Switzerland']\n",
    "print(locations)\n",
    "print(sorted(locations))\n",
    "print(locations)\n",
    "locations.sort(reverse=True)\n",
    "print(locations)\n",
    "locations.sort(reverse=False)\n",
    "print(locations)\n",
    "locations.sort()\n",
    "print(locations)\n",
    "locations.sort(reverse=True)\n",
    "print(locations)"
   ]
  },
  {
   "cell_type": "code",
   "execution_count": 28,
   "metadata": {},
   "outputs": [
    {
     "name": "stdout",
     "output_type": "stream",
     "text": [
      "2\n"
     ]
    }
   ],
   "source": [
    "#3-9. Dinner Guests: length\n",
    "persons=['Adeela','Hina','Tahreem']\n",
    "persons.insert(0,'Ayesha')\n",
    "persons.remove('Adeela')\n",
    "persons.insert(2,'Arzoo')\n",
    "persons.insert(1,'Quratulain')\n",
    "persons.append('Mehvish')\n",
    "p1=persons.pop()\n",
    "p1=persons.pop()\n",
    "p1=persons.pop()\n",
    "p1=persons.pop()\n",
    "print(len(persons))\n"
   ]
  },
  {
   "cell_type": "code",
   "execution_count": 29,
   "metadata": {},
   "outputs": [
    {
     "name": "stdout",
     "output_type": "stream",
     "text": [
      "Karachi\n",
      "['Multan', 'Murree', 'Islamabad', 'Karachi']\n",
      "['Multan', 'Swat', 'Islamabad', 'Karachi']\n",
      "['Multan', 'Swat', 'Islamabad', 'Karachi', 'Lahore']\n",
      "['Multan', 'Swat', 'Islamabad', 'Naran', 'Karachi', 'Lahore']\n",
      "['Swat', 'Islamabad', 'Naran', 'Karachi', 'Lahore']\n",
      "Lahore\n",
      "Karachi\n",
      "['Swat', 'Islamabad', 'Naran']\n",
      "['Islamabad', 'Naran']\n",
      "['lahore', 'Naran', 'islamabad', 'Swat']\n",
      "['Naran', 'Swat', 'islamabad', 'lahore']\n",
      "['lahore', 'Naran', 'islamabad', 'Swat']\n",
      "['Naran', 'Swat', 'islamabad', 'lahore']\n",
      "['lahore', 'islamabad', 'Swat', 'Naran']\n",
      "4\n",
      "Naran\n"
     ]
    }
   ],
   "source": [
    "# 3.10. Every Function:\n",
    "cities=['Multan','Murree','Islamabad','Karachi']\n",
    "#Accessing Elements in a List\n",
    "print(cities[3])\n",
    "#modifying Elements in a List\n",
    "print(cities)\n",
    "cities[1]='Swat'\n",
    "print(cities)\n",
    "#Appending Elements to the End of a List\n",
    "cities.append('Lahore')\n",
    "print(cities)\n",
    "#Inserting Elements into a List\n",
    "cities.insert(3,'Naran')\n",
    "print(cities)\n",
    "#Removing Elements from a List\n",
    "#Removing an Item Using the del Statement\n",
    "del cities[0]\n",
    "print(cities)\n",
    "#Removing an Item Using the pop() Method\n",
    "poped_city=cities.pop()\n",
    "print(poped_city)\n",
    "#Popping Items from any Position in a List\n",
    "poped_city=cities.pop(3)\n",
    "print(poped_city)\n",
    "print(cities)\n",
    "#Removing an Item by Value\n",
    "cities.remove('Swat')\n",
    "print(cities)\n",
    "#temprarily sorting\n",
    "cities=['lahore','Naran','islamabad','Swat']\n",
    "print(cities)\n",
    "print(sorted(cities))\n",
    "print(cities)\n",
    "#permanent sorting\n",
    "cities.sort()\n",
    "print(cities)\n",
    "#reverse order\n",
    "cities.sort(reverse=True)\n",
    "print(cities)\n",
    "#finding the Length of a List\n",
    "print(len(cities))\n",
    "print(cities[-1])"
   ]
  },
  {
   "cell_type": "code",
   "execution_count": 30,
   "metadata": {},
   "outputs": [
    {
     "name": "stdout",
     "output_type": "stream",
     "text": [
      "Lahore\n"
     ]
    }
   ],
   "source": [
    "#3-11. Intentional Error: If you haven’t received an index error in one of your programs yet, try to make one happen. Change an index in one of your programs to produce an index error. Make sure youcorrect the error before closing the program.\n",
    "#cities=[]\n",
    "#print(cities[-2])(this statement will cause index error)\n",
    "#correction of error\n",
    "cities=['Multan','Lahore','Azad Kashmir']\n",
    "print(cities[-2])"
   ]
  }
 ],
 "metadata": {
  "interpreter": {
   "hash": "cf6744d95205dae8e5417b51023893433232521d324ecb98fe0ff0cbfc1648ea"
  },
  "kernelspec": {
   "display_name": "Python 3.10.4 64-bit",
   "language": "python",
   "name": "python3"
  },
  "language_info": {
   "codemirror_mode": {
    "name": "ipython",
    "version": 3
   },
   "file_extension": ".py",
   "mimetype": "text/x-python",
   "name": "python",
   "nbconvert_exporter": "python",
   "pygments_lexer": "ipython3",
   "version": "3.10.4"
  },
  "orig_nbformat": 4
 },
 "nbformat": 4,
 "nbformat_minor": 2
}
